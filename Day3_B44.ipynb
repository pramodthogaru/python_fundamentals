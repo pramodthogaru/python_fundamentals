{
 "cells": [
  {
   "cell_type": "code",
   "execution_count": 2,
   "metadata": {},
   "outputs": [],
   "source": [
    "#Day3 --continuation with variables"
   ]
  },
  {
   "cell_type": "code",
   "execution_count": 3,
   "metadata": {},
   "outputs": [
    {
     "name": "stdout",
     "output_type": "stream",
     "text": [
      "pramod thogaru\n"
     ]
    }
   ],
   "source": [
    "fullname=\"pramod thogaru\"\n",
    "print(fullname)"
   ]
  },
  {
   "cell_type": "code",
   "execution_count": 4,
   "metadata": {},
   "outputs": [
    {
     "name": "stdout",
     "output_type": "stream",
     "text": [
      "Pramod Thogaru\n"
     ]
    }
   ],
   "source": [
    "#title method to print characters in correct format/intcap\n",
    "\n",
    "print(fullname.title())"
   ]
  },
  {
   "cell_type": "code",
   "execution_count": 5,
   "metadata": {},
   "outputs": [
    {
     "name": "stdout",
     "output_type": "stream",
     "text": [
      "PRAMOD THOGARU\n"
     ]
    }
   ],
   "source": [
    "print(fullname.upper())"
   ]
  },
  {
   "cell_type": "code",
   "execution_count": 6,
   "metadata": {},
   "outputs": [
    {
     "name": "stdout",
     "output_type": "stream",
     "text": [
      "pramod thogaru\n"
     ]
    }
   ],
   "source": [
    "print(fullname.lower())"
   ]
  },
  {
   "cell_type": "code",
   "execution_count": 19,
   "metadata": {},
   "outputs": [
    {
     "name": "stdout",
     "output_type": "stream",
     "text": [
      "Pramod Thogaru\n"
     ]
    }
   ],
   "source": [
    "#Introduction to f strings\n",
    "#syntax: f\"customwords {placeholder1} {placeholder2} {placeholder3}.... {placeholder n}\"\n",
    "\n",
    "first='Pramod'\n",
    "last='Thogaru'\n",
    "\n",
    "custom_string=f\"{first} {last}\"\n",
    "\n",
    "print(custom_string)"
   ]
  },
  {
   "cell_type": "code",
   "execution_count": 20,
   "metadata": {},
   "outputs": [
    {
     "name": "stdout",
     "output_type": "stream",
     "text": [
      "Hello, Pramod Thogaru\n"
     ]
    }
   ],
   "source": [
    "custom_string=f\"Hello, {first} {last}\"\n",
    "print(custom_string)"
   ]
  },
  {
   "cell_type": "code",
   "execution_count": 21,
   "metadata": {},
   "outputs": [
    {
     "name": "stdout",
     "output_type": "stream",
     "text": [
      "list of programming laguages:python,Javascript,C,C++\n"
     ]
    }
   ],
   "source": [
    "#Adding whitespace to string\n",
    "\n",
    "print(\"list of programming laguages:python,Javascript,C,C++\")"
   ]
  },
  {
   "cell_type": "code",
   "execution_count": 22,
   "metadata": {},
   "outputs": [
    {
     "name": "stdout",
     "output_type": "stream",
     "text": [
      "list of programming laguages:\n",
      "python\n",
      "Javascript\n",
      "C\n",
      "C++\n"
     ]
    }
   ],
   "source": [
    "print(\"list of programming laguages:\\npython\\nJavascript\\nC\\nC++\")"
   ]
  },
  {
   "cell_type": "code",
   "execution_count": 23,
   "metadata": {},
   "outputs": [
    {
     "name": "stdout",
     "output_type": "stream",
     "text": [
      "list of programming laguages:\n",
      "\tpython\n",
      "\tJavascript\n",
      "\tC\n",
      "\tC++\n"
     ]
    }
   ],
   "source": [
    "print(\"list of programming laguages:\\n\\tpython\\n\\tJavascript\\n\\tC\\n\\tC++\")"
   ]
  },
  {
   "cell_type": "code",
   "execution_count": 24,
   "metadata": {},
   "outputs": [
    {
     "name": "stdout",
     "output_type": "stream",
     "text": [
      "pramod\n"
     ]
    }
   ],
   "source": [
    "#Removing whitespace from string\n",
    "\n",
    "firstname=\"  pramod\"\n",
    "print(firstname.lstrip())"
   ]
  },
  {
   "cell_type": "code",
   "execution_count": 25,
   "metadata": {},
   "outputs": [
    {
     "name": "stdout",
     "output_type": "stream",
     "text": [
      "pramod\n"
     ]
    }
   ],
   "source": [
    "firstname=\"pramod    \"\n",
    "print(firstname.rstrip())"
   ]
  },
  {
   "cell_type": "code",
   "execution_count": 26,
   "metadata": {},
   "outputs": [
    {
     "name": "stdout",
     "output_type": "stream",
     "text": [
      "pramod\n"
     ]
    }
   ],
   "source": [
    "firstname=\"  pramod   \"\n",
    "print(firstname.strip())"
   ]
  }
 ],
 "metadata": {
  "kernelspec": {
   "display_name": "Python 3",
   "language": "python",
   "name": "python3"
  },
  "language_info": {
   "codemirror_mode": {
    "name": "ipython",
    "version": 3
   },
   "file_extension": ".py",
   "mimetype": "text/x-python",
   "name": "python",
   "nbconvert_exporter": "python",
   "pygments_lexer": "ipython3",
   "version": "3.8.5"
  }
 },
 "nbformat": 4,
 "nbformat_minor": 4
}
