{
 "cells": [
  {
   "cell_type": "code",
   "execution_count": null,
   "metadata": {},
   "outputs": [],
   "source": [
    "#Introduction to LIST Datatypes"
   ]
  },
  {
   "cell_type": "code",
   "execution_count": 1,
   "metadata": {},
   "outputs": [],
   "source": [
    "IntegrationTools=['Informatica', 'datastage', 'SSIS', 'ODI', 'Snaplogic', 'Talend']"
   ]
  },
  {
   "cell_type": "code",
   "execution_count": 2,
   "metadata": {},
   "outputs": [
    {
     "name": "stdout",
     "output_type": "stream",
     "text": [
      "['Informatica', 'datastage', 'SSIS', 'ODI', 'Snaplogic', 'Talend']\n"
     ]
    }
   ],
   "source": [
    "print(IntegrationTools)"
   ]
  },
  {
   "cell_type": "code",
   "execution_count": 3,
   "metadata": {},
   "outputs": [
    {
     "data": {
      "text/plain": [
       "'datastage'"
      ]
     },
     "execution_count": 3,
     "metadata": {},
     "output_type": "execute_result"
    }
   ],
   "source": [
    "#Print Items from specific position/index in a List\n",
    "IntegrationTools[1]"
   ]
  },
  {
   "cell_type": "code",
   "execution_count": 4,
   "metadata": {},
   "outputs": [
    {
     "data": {
      "text/plain": [
       "'DATASTAGE'"
      ]
     },
     "execution_count": 4,
     "metadata": {},
     "output_type": "execute_result"
    }
   ],
   "source": [
    "IntegrationTools[1].upper()"
   ]
  },
  {
   "cell_type": "code",
   "execution_count": 5,
   "metadata": {},
   "outputs": [],
   "source": [
    "#Append Items at the end of current List\n",
    "IntegrationTools.append('Mulesoft')"
   ]
  },
  {
   "cell_type": "code",
   "execution_count": 6,
   "metadata": {},
   "outputs": [
    {
     "name": "stdout",
     "output_type": "stream",
     "text": [
      "['Informatica', 'datastage', 'SSIS', 'ODI', 'Snaplogic', 'Talend', 'Mulesoft']\n"
     ]
    }
   ],
   "source": [
    "print(IntegrationTools)"
   ]
  },
  {
   "cell_type": "code",
   "execution_count": 7,
   "metadata": {},
   "outputs": [],
   "source": [
    "#Insert Items at specific position in a List\n",
    "IntegrationTools.insert(3, 'Jitterbit')"
   ]
  },
  {
   "cell_type": "code",
   "execution_count": 8,
   "metadata": {},
   "outputs": [
    {
     "name": "stdout",
     "output_type": "stream",
     "text": [
      "['Informatica', 'datastage', 'SSIS', 'Jitterbit', 'ODI', 'Snaplogic', 'Talend', 'Mulesoft']\n"
     ]
    }
   ],
   "source": [
    "print(IntegrationTools)"
   ]
  },
  {
   "cell_type": "code",
   "execution_count": 9,
   "metadata": {},
   "outputs": [],
   "source": [
    "#Update specific index/position item value in a List\n",
    "IntegrationTools[3]='Xplenty'"
   ]
  },
  {
   "cell_type": "code",
   "execution_count": 10,
   "metadata": {},
   "outputs": [
    {
     "name": "stdout",
     "output_type": "stream",
     "text": [
      "['Informatica', 'datastage', 'SSIS', 'Xplenty', 'ODI', 'Snaplogic', 'Talend', 'Mulesoft']\n"
     ]
    }
   ],
   "source": [
    "print(IntegrationTools)"
   ]
  },
  {
   "cell_type": "code",
   "execution_count": 11,
   "metadata": {},
   "outputs": [],
   "source": [
    "#Delete specific index/position item value from a list\n",
    "del IntegrationTools[3]"
   ]
  },
  {
   "cell_type": "code",
   "execution_count": 12,
   "metadata": {},
   "outputs": [
    {
     "name": "stdout",
     "output_type": "stream",
     "text": [
      "['Informatica', 'datastage', 'SSIS', 'ODI', 'Snaplogic', 'Talend', 'Mulesoft']\n"
     ]
    }
   ],
   "source": [
    "print(IntegrationTools)"
   ]
  },
  {
   "cell_type": "code",
   "execution_count": 14,
   "metadata": {},
   "outputs": [],
   "source": [
    "#Alternate way to Delete last index/position item value from a list and store that value in separate variable\n",
    "NewIntegrationTools=IntegrationTools.pop()"
   ]
  },
  {
   "cell_type": "code",
   "execution_count": 15,
   "metadata": {},
   "outputs": [
    {
     "name": "stdout",
     "output_type": "stream",
     "text": [
      "['Informatica', 'datastage', 'SSIS', 'ODI', 'Snaplogic', 'Talend']\n"
     ]
    }
   ],
   "source": [
    "print(IntegrationTools)"
   ]
  },
  {
   "cell_type": "code",
   "execution_count": 16,
   "metadata": {},
   "outputs": [
    {
     "name": "stdout",
     "output_type": "stream",
     "text": [
      "Mulesoft\n"
     ]
    }
   ],
   "source": [
    "print(NewIntegrationTools)"
   ]
  },
  {
   "cell_type": "code",
   "execution_count": null,
   "metadata": {},
   "outputs": [],
   "source": []
  }
 ],
 "metadata": {
  "kernelspec": {
   "display_name": "Python 3",
   "language": "python",
   "name": "python3"
  },
  "language_info": {
   "codemirror_mode": {
    "name": "ipython",
    "version": 3
   },
   "file_extension": ".py",
   "mimetype": "text/x-python",
   "name": "python",
   "nbconvert_exporter": "python",
   "pygments_lexer": "ipython3",
   "version": "3.8.5"
  }
 },
 "nbformat": 4,
 "nbformat_minor": 4
}
